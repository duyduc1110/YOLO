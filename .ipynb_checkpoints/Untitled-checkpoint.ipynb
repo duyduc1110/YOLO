{
 "cells": [
  {
   "cell_type": "code",
   "execution_count": 34,
   "metadata": {},
   "outputs": [],
   "source": [
    "def check(arr):\n",
    "    max_ = 0\n",
    "    for i in range(len(arr)-1):\n",
    "        j = i+1\n",
    "        while j < len(arr):\n",
    "            if arr[j] != arr[j-1]+1:\n",
    "                t = j - i\n",
    "                if t > max_: \n",
    "                    max_ = t\n",
    "                break\n",
    "            if j == len(arr)-1 and arr[j] == arr[j-1]+1:\n",
    "                t = j-i+1\n",
    "                if t > max_:\n",
    "                    max_ = t\n",
    "            j += 1\n",
    "            \n",
    "    return max_\n",
    "\n",
    "\n",
    "\n",
    "\n"
   ]
  },
  {
   "cell_type": "code",
   "execution_count": null,
   "metadata": {},
   "outputs": [],
   "source": [
    "arr = [14, 12, 11, 20]\n",
    "arr.sort()\n",
    "check(arr)"
   ]
  }
 ],
 "metadata": {
  "kernelspec": {
   "display_name": "xpython",
   "language": "python",
   "name": "xpython"
  },
  "language_info": {
   "file_extension": ".py",
   "mimetype": "text/x-python",
   "name": "python",
   "version": "3.7.6"
  }
 },
 "nbformat": 4,
 "nbformat_minor": 4
}
